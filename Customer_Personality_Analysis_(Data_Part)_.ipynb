{
 "cells": [
  {
   "cell_type": "markdown",
   "metadata": {
    "id": "PcpoLiCNc8IJ"
   },
   "source": [
    "Import the necessary libraries"
   ]
  },
  {
   "cell_type": "code",
   "execution_count": 1,
   "metadata": {
    "id": "iF9FsViDv8I3"
   },
   "outputs": [],
   "source": [
    "import pandas as pd\n",
    "import seaborn as sns\n",
    "import numpy as np\n",
    "import matplotlib.pyplot as plt\n",
    "from sklearn.preprocessing import StandardScaler\n",
    "from sklearn.cluster import KMeans\n",
    "from sklearn.preprocessing import LabelEncoder"
   ]
  },
  {
   "cell_type": "markdown",
   "metadata": {
    "id": "bRUc_E5odAjI"
   },
   "source": [
    "Loading the dataset"
   ]
  },
  {
   "cell_type": "code",
   "execution_count": 2,
   "metadata": {
    "colab": {
     "base_uri": "https://localhost:8080/",
     "height": 299
    },
    "id": "ZWBiS5LCwXsh",
    "outputId": "10dbc13f-d1a0-4f24-f89b-34af4b68fbdd"
   },
   "outputs": [
    {
     "data": {
      "text/html": [
       "<div>\n",
       "<style scoped>\n",
       "    .dataframe tbody tr th:only-of-type {\n",
       "        vertical-align: middle;\n",
       "    }\n",
       "\n",
       "    .dataframe tbody tr th {\n",
       "        vertical-align: top;\n",
       "    }\n",
       "\n",
       "    .dataframe thead th {\n",
       "        text-align: right;\n",
       "    }\n",
       "</style>\n",
       "<table border=\"1\" class=\"dataframe\">\n",
       "  <thead>\n",
       "    <tr style=\"text-align: right;\">\n",
       "      <th></th>\n",
       "      <th>ID</th>\n",
       "      <th>Year_Birth</th>\n",
       "      <th>Education</th>\n",
       "      <th>Marital_Status</th>\n",
       "      <th>Income</th>\n",
       "      <th>Kidhome</th>\n",
       "      <th>Teenhome</th>\n",
       "      <th>Dt_Customer</th>\n",
       "      <th>Recency</th>\n",
       "      <th>MntWines</th>\n",
       "      <th>...</th>\n",
       "      <th>NumWebVisitsMonth</th>\n",
       "      <th>AcceptedCmp3</th>\n",
       "      <th>AcceptedCmp4</th>\n",
       "      <th>AcceptedCmp5</th>\n",
       "      <th>AcceptedCmp1</th>\n",
       "      <th>AcceptedCmp2</th>\n",
       "      <th>Complain</th>\n",
       "      <th>Z_CostContact</th>\n",
       "      <th>Z_Revenue</th>\n",
       "      <th>Response</th>\n",
       "    </tr>\n",
       "  </thead>\n",
       "  <tbody>\n",
       "    <tr>\n",
       "      <th>0</th>\n",
       "      <td>5524</td>\n",
       "      <td>1957</td>\n",
       "      <td>Graduation</td>\n",
       "      <td>Single</td>\n",
       "      <td>58138.0</td>\n",
       "      <td>0</td>\n",
       "      <td>0</td>\n",
       "      <td>04-09-2012</td>\n",
       "      <td>58</td>\n",
       "      <td>635</td>\n",
       "      <td>...</td>\n",
       "      <td>7</td>\n",
       "      <td>0</td>\n",
       "      <td>0</td>\n",
       "      <td>0</td>\n",
       "      <td>0</td>\n",
       "      <td>0</td>\n",
       "      <td>0</td>\n",
       "      <td>3</td>\n",
       "      <td>11</td>\n",
       "      <td>1</td>\n",
       "    </tr>\n",
       "    <tr>\n",
       "      <th>1</th>\n",
       "      <td>2174</td>\n",
       "      <td>1954</td>\n",
       "      <td>Graduation</td>\n",
       "      <td>Single</td>\n",
       "      <td>46344.0</td>\n",
       "      <td>1</td>\n",
       "      <td>1</td>\n",
       "      <td>08-03-2014</td>\n",
       "      <td>38</td>\n",
       "      <td>11</td>\n",
       "      <td>...</td>\n",
       "      <td>5</td>\n",
       "      <td>0</td>\n",
       "      <td>0</td>\n",
       "      <td>0</td>\n",
       "      <td>0</td>\n",
       "      <td>0</td>\n",
       "      <td>0</td>\n",
       "      <td>3</td>\n",
       "      <td>11</td>\n",
       "      <td>0</td>\n",
       "    </tr>\n",
       "    <tr>\n",
       "      <th>2</th>\n",
       "      <td>4141</td>\n",
       "      <td>1965</td>\n",
       "      <td>Graduation</td>\n",
       "      <td>Together</td>\n",
       "      <td>71613.0</td>\n",
       "      <td>0</td>\n",
       "      <td>0</td>\n",
       "      <td>21-08-2013</td>\n",
       "      <td>26</td>\n",
       "      <td>426</td>\n",
       "      <td>...</td>\n",
       "      <td>4</td>\n",
       "      <td>0</td>\n",
       "      <td>0</td>\n",
       "      <td>0</td>\n",
       "      <td>0</td>\n",
       "      <td>0</td>\n",
       "      <td>0</td>\n",
       "      <td>3</td>\n",
       "      <td>11</td>\n",
       "      <td>0</td>\n",
       "    </tr>\n",
       "    <tr>\n",
       "      <th>3</th>\n",
       "      <td>6182</td>\n",
       "      <td>1984</td>\n",
       "      <td>Graduation</td>\n",
       "      <td>Together</td>\n",
       "      <td>26646.0</td>\n",
       "      <td>1</td>\n",
       "      <td>0</td>\n",
       "      <td>10-02-2014</td>\n",
       "      <td>26</td>\n",
       "      <td>11</td>\n",
       "      <td>...</td>\n",
       "      <td>6</td>\n",
       "      <td>0</td>\n",
       "      <td>0</td>\n",
       "      <td>0</td>\n",
       "      <td>0</td>\n",
       "      <td>0</td>\n",
       "      <td>0</td>\n",
       "      <td>3</td>\n",
       "      <td>11</td>\n",
       "      <td>0</td>\n",
       "    </tr>\n",
       "    <tr>\n",
       "      <th>4</th>\n",
       "      <td>5324</td>\n",
       "      <td>1981</td>\n",
       "      <td>PhD</td>\n",
       "      <td>Married</td>\n",
       "      <td>58293.0</td>\n",
       "      <td>1</td>\n",
       "      <td>0</td>\n",
       "      <td>19-01-2014</td>\n",
       "      <td>94</td>\n",
       "      <td>173</td>\n",
       "      <td>...</td>\n",
       "      <td>5</td>\n",
       "      <td>0</td>\n",
       "      <td>0</td>\n",
       "      <td>0</td>\n",
       "      <td>0</td>\n",
       "      <td>0</td>\n",
       "      <td>0</td>\n",
       "      <td>3</td>\n",
       "      <td>11</td>\n",
       "      <td>0</td>\n",
       "    </tr>\n",
       "  </tbody>\n",
       "</table>\n",
       "<p>5 rows × 29 columns</p>\n",
       "</div>"
      ],
      "text/plain": [
       "     ID  Year_Birth   Education Marital_Status   Income  Kidhome  Teenhome  \\\n",
       "0  5524        1957  Graduation         Single  58138.0        0         0   \n",
       "1  2174        1954  Graduation         Single  46344.0        1         1   \n",
       "2  4141        1965  Graduation       Together  71613.0        0         0   \n",
       "3  6182        1984  Graduation       Together  26646.0        1         0   \n",
       "4  5324        1981         PhD        Married  58293.0        1         0   \n",
       "\n",
       "  Dt_Customer  Recency  MntWines  ...  NumWebVisitsMonth  AcceptedCmp3  \\\n",
       "0  04-09-2012       58       635  ...                  7             0   \n",
       "1  08-03-2014       38        11  ...                  5             0   \n",
       "2  21-08-2013       26       426  ...                  4             0   \n",
       "3  10-02-2014       26        11  ...                  6             0   \n",
       "4  19-01-2014       94       173  ...                  5             0   \n",
       "\n",
       "   AcceptedCmp4  AcceptedCmp5  AcceptedCmp1  AcceptedCmp2  Complain  \\\n",
       "0             0             0             0             0         0   \n",
       "1             0             0             0             0         0   \n",
       "2             0             0             0             0         0   \n",
       "3             0             0             0             0         0   \n",
       "4             0             0             0             0         0   \n",
       "\n",
       "   Z_CostContact  Z_Revenue  Response  \n",
       "0              3         11         1  \n",
       "1              3         11         0  \n",
       "2              3         11         0  \n",
       "3              3         11         0  \n",
       "4              3         11         0  \n",
       "\n",
       "[5 rows x 29 columns]"
      ]
     },
     "execution_count": 2,
     "metadata": {},
     "output_type": "execute_result"
    }
   ],
   "source": [
    "df = pd.read_csv('https://raw.githubusercontent.com/pushkarsaini18/Customer-Behaviour-Pattern/main/dataset/marketing_campaign.csv')\n",
    "\n",
    "df.head()"
   ]
  },
  {
   "cell_type": "code",
   "execution_count": 3,
   "metadata": {
    "colab": {
     "base_uri": "https://localhost:8080/"
    },
    "id": "IkTIMz4Bx8n4",
    "outputId": "947961b7-3707-4da0-e999-c6f39e04111e"
   },
   "outputs": [
    {
     "data": {
      "text/plain": [
       "(2240, 29)"
      ]
     },
     "execution_count": 3,
     "metadata": {},
     "output_type": "execute_result"
    }
   ],
   "source": [
    "df.shape"
   ]
  },
  {
   "cell_type": "code",
   "execution_count": 4,
   "metadata": {
    "colab": {
     "base_uri": "https://localhost:8080/"
    },
    "id": "8u6TBWnpdkpL",
    "outputId": "379b8802-b84c-4d0d-89b8-95aebd05f555"
   },
   "outputs": [
    {
     "name": "stdout",
     "output_type": "stream",
     "text": [
      "<class 'pandas.core.frame.DataFrame'>\n",
      "RangeIndex: 2240 entries, 0 to 2239\n",
      "Data columns (total 29 columns):\n",
      " #   Column               Non-Null Count  Dtype  \n",
      "---  ------               --------------  -----  \n",
      " 0   ID                   2240 non-null   int64  \n",
      " 1   Year_Birth           2240 non-null   int64  \n",
      " 2   Education            2240 non-null   object \n",
      " 3   Marital_Status       2240 non-null   object \n",
      " 4   Income               2216 non-null   float64\n",
      " 5   Kidhome              2240 non-null   int64  \n",
      " 6   Teenhome             2240 non-null   int64  \n",
      " 7   Dt_Customer          2240 non-null   object \n",
      " 8   Recency              2240 non-null   int64  \n",
      " 9   MntWines             2240 non-null   int64  \n",
      " 10  MntFruits            2240 non-null   int64  \n",
      " 11  MntMeatProducts      2240 non-null   int64  \n",
      " 12  MntFishProducts      2240 non-null   int64  \n",
      " 13  MntSweetProducts     2240 non-null   int64  \n",
      " 14  MntGoldProds         2240 non-null   int64  \n",
      " 15  NumDealsPurchases    2240 non-null   int64  \n",
      " 16  NumWebPurchases      2240 non-null   int64  \n",
      " 17  NumCatalogPurchases  2240 non-null   int64  \n",
      " 18  NumStorePurchases    2240 non-null   int64  \n",
      " 19  NumWebVisitsMonth    2240 non-null   int64  \n",
      " 20  AcceptedCmp3         2240 non-null   int64  \n",
      " 21  AcceptedCmp4         2240 non-null   int64  \n",
      " 22  AcceptedCmp5         2240 non-null   int64  \n",
      " 23  AcceptedCmp1         2240 non-null   int64  \n",
      " 24  AcceptedCmp2         2240 non-null   int64  \n",
      " 25  Complain             2240 non-null   int64  \n",
      " 26  Z_CostContact        2240 non-null   int64  \n",
      " 27  Z_Revenue            2240 non-null   int64  \n",
      " 28  Response             2240 non-null   int64  \n",
      "dtypes: float64(1), int64(25), object(3)\n",
      "memory usage: 507.6+ KB\n"
     ]
    }
   ],
   "source": [
    "df.info()"
   ]
  },
  {
   "cell_type": "code",
   "execution_count": 5,
   "metadata": {
    "colab": {
     "base_uri": "https://localhost:8080/",
     "height": 394
    },
    "id": "95RAvbbxdmN5",
    "outputId": "55174fff-541a-4c1c-82d1-b864b2296dd7"
   },
   "outputs": [
    {
     "data": {
      "text/html": [
       "<div>\n",
       "<style scoped>\n",
       "    .dataframe tbody tr th:only-of-type {\n",
       "        vertical-align: middle;\n",
       "    }\n",
       "\n",
       "    .dataframe tbody tr th {\n",
       "        vertical-align: top;\n",
       "    }\n",
       "\n",
       "    .dataframe thead th {\n",
       "        text-align: right;\n",
       "    }\n",
       "</style>\n",
       "<table border=\"1\" class=\"dataframe\">\n",
       "  <thead>\n",
       "    <tr style=\"text-align: right;\">\n",
       "      <th></th>\n",
       "      <th>ID</th>\n",
       "      <th>Year_Birth</th>\n",
       "      <th>Income</th>\n",
       "      <th>Kidhome</th>\n",
       "      <th>Teenhome</th>\n",
       "      <th>Recency</th>\n",
       "      <th>MntWines</th>\n",
       "      <th>MntFruits</th>\n",
       "      <th>MntMeatProducts</th>\n",
       "      <th>MntFishProducts</th>\n",
       "      <th>...</th>\n",
       "      <th>NumWebVisitsMonth</th>\n",
       "      <th>AcceptedCmp3</th>\n",
       "      <th>AcceptedCmp4</th>\n",
       "      <th>AcceptedCmp5</th>\n",
       "      <th>AcceptedCmp1</th>\n",
       "      <th>AcceptedCmp2</th>\n",
       "      <th>Complain</th>\n",
       "      <th>Z_CostContact</th>\n",
       "      <th>Z_Revenue</th>\n",
       "      <th>Response</th>\n",
       "    </tr>\n",
       "  </thead>\n",
       "  <tbody>\n",
       "    <tr>\n",
       "      <th>count</th>\n",
       "      <td>2240.000000</td>\n",
       "      <td>2240.000000</td>\n",
       "      <td>2216.000000</td>\n",
       "      <td>2240.000000</td>\n",
       "      <td>2240.000000</td>\n",
       "      <td>2240.000000</td>\n",
       "      <td>2240.000000</td>\n",
       "      <td>2240.000000</td>\n",
       "      <td>2240.000000</td>\n",
       "      <td>2240.000000</td>\n",
       "      <td>...</td>\n",
       "      <td>2240.000000</td>\n",
       "      <td>2240.000000</td>\n",
       "      <td>2240.000000</td>\n",
       "      <td>2240.000000</td>\n",
       "      <td>2240.000000</td>\n",
       "      <td>2240.000000</td>\n",
       "      <td>2240.000000</td>\n",
       "      <td>2240.0</td>\n",
       "      <td>2240.0</td>\n",
       "      <td>2240.000000</td>\n",
       "    </tr>\n",
       "    <tr>\n",
       "      <th>mean</th>\n",
       "      <td>5592.159821</td>\n",
       "      <td>1968.805804</td>\n",
       "      <td>52247.251354</td>\n",
       "      <td>0.444196</td>\n",
       "      <td>0.506250</td>\n",
       "      <td>49.109375</td>\n",
       "      <td>303.935714</td>\n",
       "      <td>26.302232</td>\n",
       "      <td>166.950000</td>\n",
       "      <td>37.525446</td>\n",
       "      <td>...</td>\n",
       "      <td>5.316518</td>\n",
       "      <td>0.072768</td>\n",
       "      <td>0.074554</td>\n",
       "      <td>0.072768</td>\n",
       "      <td>0.064286</td>\n",
       "      <td>0.013393</td>\n",
       "      <td>0.009375</td>\n",
       "      <td>3.0</td>\n",
       "      <td>11.0</td>\n",
       "      <td>0.149107</td>\n",
       "    </tr>\n",
       "    <tr>\n",
       "      <th>std</th>\n",
       "      <td>3246.662198</td>\n",
       "      <td>11.984069</td>\n",
       "      <td>25173.076661</td>\n",
       "      <td>0.538398</td>\n",
       "      <td>0.544538</td>\n",
       "      <td>28.962453</td>\n",
       "      <td>336.597393</td>\n",
       "      <td>39.773434</td>\n",
       "      <td>225.715373</td>\n",
       "      <td>54.628979</td>\n",
       "      <td>...</td>\n",
       "      <td>2.426645</td>\n",
       "      <td>0.259813</td>\n",
       "      <td>0.262728</td>\n",
       "      <td>0.259813</td>\n",
       "      <td>0.245316</td>\n",
       "      <td>0.114976</td>\n",
       "      <td>0.096391</td>\n",
       "      <td>0.0</td>\n",
       "      <td>0.0</td>\n",
       "      <td>0.356274</td>\n",
       "    </tr>\n",
       "    <tr>\n",
       "      <th>min</th>\n",
       "      <td>0.000000</td>\n",
       "      <td>1893.000000</td>\n",
       "      <td>1730.000000</td>\n",
       "      <td>0.000000</td>\n",
       "      <td>0.000000</td>\n",
       "      <td>0.000000</td>\n",
       "      <td>0.000000</td>\n",
       "      <td>0.000000</td>\n",
       "      <td>0.000000</td>\n",
       "      <td>0.000000</td>\n",
       "      <td>...</td>\n",
       "      <td>0.000000</td>\n",
       "      <td>0.000000</td>\n",
       "      <td>0.000000</td>\n",
       "      <td>0.000000</td>\n",
       "      <td>0.000000</td>\n",
       "      <td>0.000000</td>\n",
       "      <td>0.000000</td>\n",
       "      <td>3.0</td>\n",
       "      <td>11.0</td>\n",
       "      <td>0.000000</td>\n",
       "    </tr>\n",
       "    <tr>\n",
       "      <th>25%</th>\n",
       "      <td>2828.250000</td>\n",
       "      <td>1959.000000</td>\n",
       "      <td>35303.000000</td>\n",
       "      <td>0.000000</td>\n",
       "      <td>0.000000</td>\n",
       "      <td>24.000000</td>\n",
       "      <td>23.750000</td>\n",
       "      <td>1.000000</td>\n",
       "      <td>16.000000</td>\n",
       "      <td>3.000000</td>\n",
       "      <td>...</td>\n",
       "      <td>3.000000</td>\n",
       "      <td>0.000000</td>\n",
       "      <td>0.000000</td>\n",
       "      <td>0.000000</td>\n",
       "      <td>0.000000</td>\n",
       "      <td>0.000000</td>\n",
       "      <td>0.000000</td>\n",
       "      <td>3.0</td>\n",
       "      <td>11.0</td>\n",
       "      <td>0.000000</td>\n",
       "    </tr>\n",
       "    <tr>\n",
       "      <th>50%</th>\n",
       "      <td>5458.500000</td>\n",
       "      <td>1970.000000</td>\n",
       "      <td>51381.500000</td>\n",
       "      <td>0.000000</td>\n",
       "      <td>0.000000</td>\n",
       "      <td>49.000000</td>\n",
       "      <td>173.500000</td>\n",
       "      <td>8.000000</td>\n",
       "      <td>67.000000</td>\n",
       "      <td>12.000000</td>\n",
       "      <td>...</td>\n",
       "      <td>6.000000</td>\n",
       "      <td>0.000000</td>\n",
       "      <td>0.000000</td>\n",
       "      <td>0.000000</td>\n",
       "      <td>0.000000</td>\n",
       "      <td>0.000000</td>\n",
       "      <td>0.000000</td>\n",
       "      <td>3.0</td>\n",
       "      <td>11.0</td>\n",
       "      <td>0.000000</td>\n",
       "    </tr>\n",
       "    <tr>\n",
       "      <th>75%</th>\n",
       "      <td>8427.750000</td>\n",
       "      <td>1977.000000</td>\n",
       "      <td>68522.000000</td>\n",
       "      <td>1.000000</td>\n",
       "      <td>1.000000</td>\n",
       "      <td>74.000000</td>\n",
       "      <td>504.250000</td>\n",
       "      <td>33.000000</td>\n",
       "      <td>232.000000</td>\n",
       "      <td>50.000000</td>\n",
       "      <td>...</td>\n",
       "      <td>7.000000</td>\n",
       "      <td>0.000000</td>\n",
       "      <td>0.000000</td>\n",
       "      <td>0.000000</td>\n",
       "      <td>0.000000</td>\n",
       "      <td>0.000000</td>\n",
       "      <td>0.000000</td>\n",
       "      <td>3.0</td>\n",
       "      <td>11.0</td>\n",
       "      <td>0.000000</td>\n",
       "    </tr>\n",
       "    <tr>\n",
       "      <th>max</th>\n",
       "      <td>11191.000000</td>\n",
       "      <td>1996.000000</td>\n",
       "      <td>666666.000000</td>\n",
       "      <td>2.000000</td>\n",
       "      <td>2.000000</td>\n",
       "      <td>99.000000</td>\n",
       "      <td>1493.000000</td>\n",
       "      <td>199.000000</td>\n",
       "      <td>1725.000000</td>\n",
       "      <td>259.000000</td>\n",
       "      <td>...</td>\n",
       "      <td>20.000000</td>\n",
       "      <td>1.000000</td>\n",
       "      <td>1.000000</td>\n",
       "      <td>1.000000</td>\n",
       "      <td>1.000000</td>\n",
       "      <td>1.000000</td>\n",
       "      <td>1.000000</td>\n",
       "      <td>3.0</td>\n",
       "      <td>11.0</td>\n",
       "      <td>1.000000</td>\n",
       "    </tr>\n",
       "  </tbody>\n",
       "</table>\n",
       "<p>8 rows × 26 columns</p>\n",
       "</div>"
      ],
      "text/plain": [
       "                 ID   Year_Birth         Income      Kidhome     Teenhome  \\\n",
       "count   2240.000000  2240.000000    2216.000000  2240.000000  2240.000000   \n",
       "mean    5592.159821  1968.805804   52247.251354     0.444196     0.506250   \n",
       "std     3246.662198    11.984069   25173.076661     0.538398     0.544538   \n",
       "min        0.000000  1893.000000    1730.000000     0.000000     0.000000   \n",
       "25%     2828.250000  1959.000000   35303.000000     0.000000     0.000000   \n",
       "50%     5458.500000  1970.000000   51381.500000     0.000000     0.000000   \n",
       "75%     8427.750000  1977.000000   68522.000000     1.000000     1.000000   \n",
       "max    11191.000000  1996.000000  666666.000000     2.000000     2.000000   \n",
       "\n",
       "           Recency     MntWines    MntFruits  MntMeatProducts  \\\n",
       "count  2240.000000  2240.000000  2240.000000      2240.000000   \n",
       "mean     49.109375   303.935714    26.302232       166.950000   \n",
       "std      28.962453   336.597393    39.773434       225.715373   \n",
       "min       0.000000     0.000000     0.000000         0.000000   \n",
       "25%      24.000000    23.750000     1.000000        16.000000   \n",
       "50%      49.000000   173.500000     8.000000        67.000000   \n",
       "75%      74.000000   504.250000    33.000000       232.000000   \n",
       "max      99.000000  1493.000000   199.000000      1725.000000   \n",
       "\n",
       "       MntFishProducts  ...  NumWebVisitsMonth  AcceptedCmp3  AcceptedCmp4  \\\n",
       "count      2240.000000  ...        2240.000000   2240.000000   2240.000000   \n",
       "mean         37.525446  ...           5.316518      0.072768      0.074554   \n",
       "std          54.628979  ...           2.426645      0.259813      0.262728   \n",
       "min           0.000000  ...           0.000000      0.000000      0.000000   \n",
       "25%           3.000000  ...           3.000000      0.000000      0.000000   \n",
       "50%          12.000000  ...           6.000000      0.000000      0.000000   \n",
       "75%          50.000000  ...           7.000000      0.000000      0.000000   \n",
       "max         259.000000  ...          20.000000      1.000000      1.000000   \n",
       "\n",
       "       AcceptedCmp5  AcceptedCmp1  AcceptedCmp2     Complain  Z_CostContact  \\\n",
       "count   2240.000000   2240.000000   2240.000000  2240.000000         2240.0   \n",
       "mean       0.072768      0.064286      0.013393     0.009375            3.0   \n",
       "std        0.259813      0.245316      0.114976     0.096391            0.0   \n",
       "min        0.000000      0.000000      0.000000     0.000000            3.0   \n",
       "25%        0.000000      0.000000      0.000000     0.000000            3.0   \n",
       "50%        0.000000      0.000000      0.000000     0.000000            3.0   \n",
       "75%        0.000000      0.000000      0.000000     0.000000            3.0   \n",
       "max        1.000000      1.000000      1.000000     1.000000            3.0   \n",
       "\n",
       "       Z_Revenue     Response  \n",
       "count     2240.0  2240.000000  \n",
       "mean        11.0     0.149107  \n",
       "std          0.0     0.356274  \n",
       "min         11.0     0.000000  \n",
       "25%         11.0     0.000000  \n",
       "50%         11.0     0.000000  \n",
       "75%         11.0     0.000000  \n",
       "max         11.0     1.000000  \n",
       "\n",
       "[8 rows x 26 columns]"
      ]
     },
     "execution_count": 5,
     "metadata": {},
     "output_type": "execute_result"
    }
   ],
   "source": [
    "df.describe()"
   ]
  },
  {
   "cell_type": "markdown",
   "metadata": {
    "id": "KVVHN65QhF4O"
   },
   "source": [
    "### Data Cleaning"
   ]
  },
  {
   "cell_type": "markdown",
   "metadata": {
    "id": "baXqoRetd1kN"
   },
   "source": [
    "Identifying Null values"
   ]
  },
  {
   "cell_type": "code",
   "execution_count": 6,
   "metadata": {
    "colab": {
     "base_uri": "https://localhost:8080/"
    },
    "id": "AHzt21rWySE8",
    "outputId": "8a5c199b-6387-4be1-cdbf-dee7fa618136"
   },
   "outputs": [
    {
     "data": {
      "text/plain": [
       "ID                      0\n",
       "Year_Birth              0\n",
       "Education               0\n",
       "Marital_Status          0\n",
       "Income                 24\n",
       "Kidhome                 0\n",
       "Teenhome                0\n",
       "Dt_Customer             0\n",
       "Recency                 0\n",
       "MntWines                0\n",
       "MntFruits               0\n",
       "MntMeatProducts         0\n",
       "MntFishProducts         0\n",
       "MntSweetProducts        0\n",
       "MntGoldProds            0\n",
       "NumDealsPurchases       0\n",
       "NumWebPurchases         0\n",
       "NumCatalogPurchases     0\n",
       "NumStorePurchases       0\n",
       "NumWebVisitsMonth       0\n",
       "AcceptedCmp3            0\n",
       "AcceptedCmp4            0\n",
       "AcceptedCmp5            0\n",
       "AcceptedCmp1            0\n",
       "AcceptedCmp2            0\n",
       "Complain                0\n",
       "Z_CostContact           0\n",
       "Z_Revenue               0\n",
       "Response                0\n",
       "dtype: int64"
      ]
     },
     "execution_count": 6,
     "metadata": {},
     "output_type": "execute_result"
    }
   ],
   "source": [
    "df.isnull().sum()"
   ]
  },
  {
   "cell_type": "markdown",
   "metadata": {
    "id": "v5CIq74odsU2"
   },
   "source": [
    "There are 24 entries in Income column with null values."
   ]
  },
  {
   "cell_type": "code",
   "execution_count": 8,
   "metadata": {
    "colab": {
     "base_uri": "https://localhost:8080/",
     "height": 378
    },
    "id": "g_dez6Wfeb6c",
    "outputId": "fc724129-6a9f-4a01-eb6c-46c588b8c5d2"
   },
   "outputs": [
    {
     "data": {
      "text/plain": [
       "<AxesSubplot:>"
      ]
     },
     "execution_count": 8,
     "metadata": {},
     "output_type": "execute_result"
    },
    {
     "data": {
      "image/png": "[encoded data removed]",
      "text/plain": [
       "<Figure size 432x288 with 2 Axes>"
      ]
     },
     "metadata": {
      "needs_background": "light"
     },
     "output_type": "display_data"
    }
   ],
   "source": [
    "# Checking for null value using heatmap\n",
    "\n",
    "sns.heatmap(df.isnull())"
   ]
  },
  {
   "cell_type": "code",
   "execution_count": 9,
   "metadata": {
    "colab": {
     "base_uri": "https://localhost:8080/"
    },
    "id": "RMpbqpDAUpX7",
    "outputId": "21e0d2c3-ca60-4a0e-cf37-4a802528195e"
   },
   "outputs": [
    {
     "data": {
      "text/plain": [
       "ID                    -0.021968\n",
       "Year_Birth             0.021325\n",
       "Income                 0.133047\n",
       "Kidhome               -0.080008\n",
       "Teenhome              -0.154446\n",
       "Recency               -0.198437\n",
       "MntWines               0.247254\n",
       "MntFruits              0.125289\n",
       "MntMeatProducts        0.236335\n",
       "MntFishProducts        0.111331\n",
       "MntSweetProducts       0.117372\n",
       "MntGoldProds           0.139850\n",
       "NumDealsPurchases      0.002238\n",
       "NumWebPurchases        0.148730\n",
       "NumCatalogPurchases    0.220810\n",
       "NumStorePurchases      0.039363\n",
       "NumWebVisitsMonth     -0.003987\n",
       "AcceptedCmp3           0.254258\n",
       "AcceptedCmp4           0.177019\n",
       "AcceptedCmp5           0.326634\n",
       "AcceptedCmp1           0.293982\n",
       "AcceptedCmp2           0.169293\n",
       "Complain              -0.001707\n",
       "Z_CostContact               NaN\n",
       "Z_Revenue                   NaN\n",
       "Response               1.000000\n",
       "Name: Response, dtype: float64"
      ]
     },
     "execution_count": 9,
     "metadata": {},
     "output_type": "execute_result"
    }
   ],
   "source": [
    "df.corr()['Response']"
   ]
  },
  {
   "cell_type": "code",
   "execution_count": 10,
   "metadata": {
    "colab": {
     "base_uri": "https://localhost:8080/"
    },
    "id": "SKlmr4YGymN0",
    "outputId": "705867d3-12ae-4e31-9607-2316eccd091d"
   },
   "outputs": [
    {
     "data": {
      "text/plain": [
       "0.1330466637515791"
      ]
     },
     "execution_count": 10,
     "metadata": {},
     "output_type": "execute_result"
    }
   ],
   "source": [
    "df['Income'].corr(df['Response'])"
   ]
  },
  {
   "cell_type": "code",
   "execution_count": 11,
   "metadata": {
    "colab": {
     "base_uri": "https://localhost:8080/",
     "height": 295
    },
    "id": "RH4jxKGAy29D",
    "outputId": "29304811-f758-4af6-b776-bac8e49802b3"
   },
   "outputs": [
    {
     "data": {
      "image/png": "[encoded data removed]",
      "text/plain": [
       "<Figure size 432x288 with 1 Axes>"
      ]
     },
     "metadata": {
      "needs_background": "light"
     },
     "output_type": "display_data"
    }
   ],
   "source": [
    "plt.scatter(df['Income'], df['Response'])\n",
    "plt.ylabel(\"Response\")\n",
    "plt.xlabel(\"Income\")\n",
    "plt.title(\"Correlation of Income and Response using Scatter Matrix\")\n",
    "plt.show()"
   ]
  },
  {
   "cell_type": "markdown",
   "metadata": {
    "id": "zzkfuNRRznHQ"
   },
   "source": [
    "The correlation coefficient of Income with Response is 0.133 . So instead of dropping the whole column, we will remove the rows with null values of Income."
   ]
  },
  {
   "cell_type": "code",
   "execution_count": 12,
   "metadata": {
    "colab": {
     "base_uri": "https://localhost:8080/"
    },
    "id": "Iqql2Yq4fUIQ",
    "outputId": "dba5aea8-2497-48d9-8ca4-1386bc3931fe"
   },
   "outputs": [
    {
     "data": {
      "text/plain": [
       "(2216, 29)"
      ]
     },
     "execution_count": 12,
     "metadata": {},
     "output_type": "execute_result"
    }
   ],
   "source": [
    "df = df.dropna() #only Income has null values\n",
    "df.shape"
   ]
  },
  {
   "cell_type": "markdown",
   "metadata": {
    "id": "8HInakglfeJ1"
   },
   "source": [
    "Now the dataframe has 2216 with all non-null values."
   ]
  },
  {
   "cell_type": "code",
   "execution_count": 13,
   "metadata": {
    "colab": {
     "base_uri": "https://localhost:8080/"
    },
    "id": "wlFFkAKvfqXW",
    "outputId": "1dad2a0e-9f1c-4502-a805-242ad2891bb1"
   },
   "outputs": [
    {
     "data": {
      "text/plain": [
       "ID                     2216\n",
       "Year_Birth               59\n",
       "Education                 5\n",
       "Marital_Status            8\n",
       "Income                 1974\n",
       "Kidhome                   3\n",
       "Teenhome                  3\n",
       "Dt_Customer             662\n",
       "Recency                 100\n",
       "MntWines                776\n",
       "MntFruits               158\n",
       "MntMeatProducts         554\n",
       "MntFishProducts         182\n",
       "MntSweetProducts        176\n",
       "MntGoldProds            212\n",
       "NumDealsPurchases        15\n",
       "NumWebPurchases          15\n",
       "NumCatalogPurchases      14\n",
       "NumStorePurchases        14\n",
       "NumWebVisitsMonth        16\n",
       "AcceptedCmp3              2\n",
       "AcceptedCmp4              2\n",
       "AcceptedCmp5              2\n",
       "AcceptedCmp1              2\n",
       "AcceptedCmp2              2\n",
       "Complain                  2\n",
       "Z_CostContact             1\n",
       "Z_Revenue                 1\n",
       "Response                  2\n",
       "dtype: int64"
      ]
     },
     "execution_count": 13,
     "metadata": {},
     "output_type": "execute_result"
    }
   ],
   "source": [
    "# Finding the number of unique values present in each column\n",
    "\n",
    "df.nunique()"
   ]
  },
  {
   "cell_type": "code",
   "execution_count": 14,
   "metadata": {
    "colab": {
     "base_uri": "https://localhost:8080/",
     "height": 296
    },
    "id": "Cz8vfNwhW9ds",
    "outputId": "7d00f703-19f7-4c64-dee8-6dac189ecbbd"
   },
   "outputs": [
    {
     "data": {
      "image/png": "[encoded data removed]",
      "text/plain": [
       "<Figure size 432x288 with 1 Axes>"
      ]
     },
     "metadata": {
      "needs_background": "light"
     },
     "output_type": "display_data"
    }
   ],
   "source": [
    "plt.scatter(df['Z_CostContact'], df['Response'])\n",
    "plt.ylabel(\"Response\")\n",
    "plt.xlabel(\"Z_CostContact\")\n",
    "plt.title(\"Correlation of Z_CostContact with Response using Scatter Matrix\")\n",
    "plt.show()"
   ]
  },
  {
   "cell_type": "code",
   "execution_count": 15,
   "metadata": {
    "colab": {
     "base_uri": "https://localhost:8080/"
    },
    "id": "Fvm6JEZV0LwF",
    "outputId": "4ac9991c-91ef-4b9b-9977-9d4b36cd9c7c"
   },
   "outputs": [
    {
     "data": {
      "text/plain": [
       "nan"
      ]
     },
     "execution_count": 15,
     "metadata": {},
     "output_type": "execute_result"
    }
   ],
   "source": [
    "df['Z_CostContact'].corr(df['Response'])"
   ]
  },
  {
   "cell_type": "code",
   "execution_count": 16,
   "metadata": {
    "colab": {
     "base_uri": "https://localhost:8080/",
     "height": 296
    },
    "id": "VSZhyvQGXPOP",
    "outputId": "4a5e639c-cf77-42cb-e178-3813511caccb"
   },
   "outputs": [
    {
     "data": {
      "image/png": "[encoded data removed]",
      "text/plain": [
       "<Figure size 432x288 with 1 Axes>"
      ]
     },
     "metadata": {
      "needs_background": "light"
     },
     "output_type": "display_data"
    }
   ],
   "source": [
    "plt.scatter(df['Z_Revenue'], df['Response'])\n",
    "plt.ylabel(\"Response\")\n",
    "plt.xlabel(\"Z_Revenue\")\n",
    "plt.title(\"Correlation of Z_Revenue with Response using Scatter Matrix\")\n",
    "plt.show()"
   ]
  },
  {
   "cell_type": "code",
   "execution_count": 17,
   "metadata": {
    "colab": {
     "base_uri": "https://localhost:8080/"
    },
    "id": "zZDGc2m10sFU",
    "outputId": "dc30732e-175f-475e-9210-5b1ef5e3cb77"
   },
   "outputs": [
    {
     "data": {
      "text/plain": [
       "nan"
      ]
     },
     "execution_count": 17,
     "metadata": {},
     "output_type": "execute_result"
    }
   ],
   "source": [
    "df['Z_Revenue'].corr(df['Response'])"
   ]
  },
  {
   "cell_type": "markdown",
   "metadata": {
    "id": "Fvpi2pEogDxO"
   },
   "source": [
    "As our target variable has no relationship with Z_CostContact and Z_revenue, it will be better to drop the whole column."
   ]
  },
  {
   "cell_type": "code",
   "execution_count": 18,
   "metadata": {
    "colab": {
     "base_uri": "https://localhost:8080/",
     "height": 317
    },
    "id": "v2D1wNTV00pl",
    "outputId": "4648e963-30d3-40c7-b4b5-c381284215b1"
   },
   "outputs": [
    {
     "name": "stdout",
     "output_type": "stream",
     "text": [
      "The updated size of dataset (2216, 27)\n"
     ]
    },
    {
     "data": {
      "text/html": [
       "<div>\n",
       "<style scoped>\n",
       "    .dataframe tbody tr th:only-of-type {\n",
       "        vertical-align: middle;\n",
       "    }\n",
       "\n",
       "    .dataframe tbody tr th {\n",
       "        vertical-align: top;\n",
       "    }\n",
       "\n",
       "    .dataframe thead th {\n",
       "        text-align: right;\n",
       "    }\n",
       "</style>\n",
       "<table border=\"1\" class=\"dataframe\">\n",
       "  <thead>\n",
       "    <tr style=\"text-align: right;\">\n",
       "      <th></th>\n",
       "      <th>ID</th>\n",
       "      <th>Year_Birth</th>\n",
       "      <th>Education</th>\n",
       "      <th>Marital_Status</th>\n",
       "      <th>Income</th>\n",
       "      <th>Kidhome</th>\n",
       "      <th>Teenhome</th>\n",
       "      <th>Dt_Customer</th>\n",
       "      <th>Recency</th>\n",
       "      <th>MntWines</th>\n",
       "      <th>...</th>\n",
       "      <th>NumCatalogPurchases</th>\n",
       "      <th>NumStorePurchases</th>\n",
       "      <th>NumWebVisitsMonth</th>\n",
       "      <th>AcceptedCmp3</th>\n",
       "      <th>AcceptedCmp4</th>\n",
       "      <th>AcceptedCmp5</th>\n",
       "      <th>AcceptedCmp1</th>\n",
       "      <th>AcceptedCmp2</th>\n",
       "      <th>Complain</th>\n",
       "      <th>Response</th>\n",
       "    </tr>\n",
       "  </thead>\n",
       "  <tbody>\n",
       "    <tr>\n",
       "      <th>0</th>\n",
       "      <td>5524</td>\n",
       "      <td>1957</td>\n",
       "      <td>Graduation</td>\n",
       "      <td>Single</td>\n",
       "      <td>58138.0</td>\n",
       "      <td>0</td>\n",
       "      <td>0</td>\n",
       "      <td>04-09-2012</td>\n",
       "      <td>58</td>\n",
       "      <td>635</td>\n",
       "      <td>...</td>\n",
       "      <td>10</td>\n",
       "      <td>4</td>\n",
       "      <td>7</td>\n",
       "      <td>0</td>\n",
       "      <td>0</td>\n",
       "      <td>0</td>\n",
       "      <td>0</td>\n",
       "      <td>0</td>\n",
       "      <td>0</td>\n",
       "      <td>1</td>\n",
       "    </tr>\n",
       "    <tr>\n",
       "      <th>1</th>\n",
       "      <td>2174</td>\n",
       "      <td>1954</td>\n",
       "      <td>Graduation</td>\n",
       "      <td>Single</td>\n",
       "      <td>46344.0</td>\n",
       "      <td>1</td>\n",
       "      <td>1</td>\n",
       "      <td>08-03-2014</td>\n",
       "      <td>38</td>\n",
       "      <td>11</td>\n",
       "      <td>...</td>\n",
       "      <td>1</td>\n",
       "      <td>2</td>\n",
       "      <td>5</td>\n",
       "      <td>0</td>\n",
       "      <td>0</td>\n",
       "      <td>0</td>\n",
       "      <td>0</td>\n",
       "      <td>0</td>\n",
       "      <td>0</td>\n",
       "      <td>0</td>\n",
       "    </tr>\n",
       "    <tr>\n",
       "      <th>2</th>\n",
       "      <td>4141</td>\n",
       "      <td>1965</td>\n",
       "      <td>Graduation</td>\n",
       "      <td>Together</td>\n",
       "      <td>71613.0</td>\n",
       "      <td>0</td>\n",
       "      <td>0</td>\n",
       "      <td>21-08-2013</td>\n",
       "      <td>26</td>\n",
       "      <td>426</td>\n",
       "      <td>...</td>\n",
       "      <td>2</td>\n",
       "      <td>10</td>\n",
       "      <td>4</td>\n",
       "      <td>0</td>\n",
       "      <td>0</td>\n",
       "      <td>0</td>\n",
       "      <td>0</td>\n",
       "      <td>0</td>\n",
       "      <td>0</td>\n",
       "      <td>0</td>\n",
       "    </tr>\n",
       "    <tr>\n",
       "      <th>3</th>\n",
       "      <td>6182</td>\n",
       "      <td>1984</td>\n",
       "      <td>Graduation</td>\n",
       "      <td>Together</td>\n",
       "      <td>26646.0</td>\n",
       "      <td>1</td>\n",
       "      <td>0</td>\n",
       "      <td>10-02-2014</td>\n",
       "      <td>26</td>\n",
       "      <td>11</td>\n",
       "      <td>...</td>\n",
       "      <td>0</td>\n",
       "      <td>4</td>\n",
       "      <td>6</td>\n",
       "      <td>0</td>\n",
       "      <td>0</td>\n",
       "      <td>0</td>\n",
       "      <td>0</td>\n",
       "      <td>0</td>\n",
       "      <td>0</td>\n",
       "      <td>0</td>\n",
       "    </tr>\n",
       "    <tr>\n",
       "      <th>4</th>\n",
       "      <td>5324</td>\n",
       "      <td>1981</td>\n",
       "      <td>PhD</td>\n",
       "      <td>Married</td>\n",
       "      <td>58293.0</td>\n",
       "      <td>1</td>\n",
       "      <td>0</td>\n",
       "      <td>19-01-2014</td>\n",
       "      <td>94</td>\n",
       "      <td>173</td>\n",
       "      <td>...</td>\n",
       "      <td>3</td>\n",
       "      <td>6</td>\n",
       "      <td>5</td>\n",
       "      <td>0</td>\n",
       "      <td>0</td>\n",
       "      <td>0</td>\n",
       "      <td>0</td>\n",
       "      <td>0</td>\n",
       "      <td>0</td>\n",
       "      <td>0</td>\n",
       "    </tr>\n",
       "  </tbody>\n",
       "</table>\n",
       "<p>5 rows × 27 columns</p>\n",
       "</div>"
      ],
      "text/plain": [
       "     ID  Year_Birth   Education Marital_Status   Income  Kidhome  Teenhome  \\\n",
       "0  5524        1957  Graduation         Single  58138.0        0         0   \n",
       "1  2174        1954  Graduation         Single  46344.0        1         1   \n",
       "2  4141        1965  Graduation       Together  71613.0        0         0   \n",
       "3  6182        1984  Graduation       Together  26646.0        1         0   \n",
       "4  5324        1981         PhD        Married  58293.0        1         0   \n",
       "\n",
       "  Dt_Customer  Recency  MntWines  ...  NumCatalogPurchases  NumStorePurchases  \\\n",
       "0  04-09-2012       58       635  ...                   10                  4   \n",
       "1  08-03-2014       38        11  ...                    1                  2   \n",
       "2  21-08-2013       26       426  ...                    2                 10   \n",
       "3  10-02-2014       26        11  ...                    0                  4   \n",
       "4  19-01-2014       94       173  ...                    3                  6   \n",
       "\n",
       "   NumWebVisitsMonth  AcceptedCmp3  AcceptedCmp4  AcceptedCmp5  AcceptedCmp1  \\\n",
       "0                  7             0             0             0             0   \n",
       "1                  5             0             0             0             0   \n",
       "2                  4             0             0             0             0   \n",
       "3                  6             0             0             0             0   \n",
       "4                  5             0             0             0             0   \n",
       "\n",
       "   AcceptedCmp2  Complain  Response  \n",
       "0             0         0         1  \n",
       "1             0         0         0  \n",
       "2             0         0         0  \n",
       "3             0         0         0  \n",
       "4             0         0         0  \n",
       "\n",
       "[5 rows x 27 columns]"
      ]
     },
     "execution_count": 18,
     "metadata": {},
     "output_type": "execute_result"
    }
   ],
   "source": [
    "df=df.drop(columns=[\"Z_CostContact\", \"Z_Revenue\"],axis=1)\n",
    "print(\"The updated size of dataset\", df.shape)\n",
    "df.head()\n"
   ]
  },
  {
   "cell_type": "code",
   "execution_count": 19,
   "metadata": {
    "colab": {
     "base_uri": "https://localhost:8080/",
     "height": 1000
    },
    "id": "hw3iiMURhZR1",
    "outputId": "3d7ebaa8-1e92-44c5-ec97-5b8e4c7987f0"
   },
   "outputs": [
    {
     "data": {
      "image/png": "[encoded data removed]",
      "text/plain": [
       "<Figure size 1440x1440 with 2 Axes>"
      ]
     },
     "metadata": {
      "needs_background": "light"
     },
     "output_type": "display_data"
    }
   ],
   "source": [
    "# Finding the correlation between the feature column\n",
    "\n",
    "plt.figure(figsize=(20,20))\n",
    "sns.heatmap(df.corr(), annot=True)\n",
    "plt.show()"
   ]
  },
  {
   "cell_type": "markdown",
   "metadata": {
    "id": "US1qU2Y4iN0_"
   },
   "source": [
    "### Data Preprocessing"
   ]
  },
  {
   "cell_type": "markdown",
   "metadata": {
    "id": "sXbCTIFMifgq"
   },
   "source": [
    "Dt_Customer is an object type column that denotes **Date of customer’s enrollment with the company** . So we need to update it to datetime format"
   ]
  },
  {
   "cell_type": "code",
   "execution_count": 21,
   "metadata": {
    "colab": {
     "base_uri": "https://localhost:8080/"
    },
    "id": "PbBvKuVpiNYc",
    "outputId": "3ad5baa6-6c9a-45e6-9836-b61ab20ba615"
   },
   "outputs": [
    {
     "name": "stdout",
     "output_type": "stream",
     "text": [
      "The newest customer's enrolment date in therecords: 2014-12-06\n",
      "The oldest customer's enrolment date in the records: 2012-01-08\n"
     ]
    }
   ],
   "source": [
    "df[\"Dt_Customer\"] = pd.to_datetime(df[\"Dt_Customer\"], infer_datetime_format=True) #date of enrollment with the company\n",
    "dates = [] #list of days the customer has been with the company\n",
    "for i in df[\"Dt_Customer\"]:\n",
    "    i = i.date()\n",
    "    dates.append(i)  \n",
    "#Dates of the newest and oldest recorded customer\n",
    "print(\"The newest customer's enrolment date in therecords:\",max(dates))\n",
    "print(\"The oldest customer's enrolment date in the records:\",min(dates))"
   ]
  },
  {
   "cell_type": "markdown",
   "metadata": {
    "id": "Z33AViCYjsQ7"
   },
   "source": [
    "We are creating a new feature that denotes this duration of time the customer is with the company using \"Customer For\""
   ]
  },
  {
   "cell_type": "code",
   "execution_count": 22,
   "metadata": {
    "id": "wWBLZZbpjr90"
   },
   "outputs": [],
   "source": [
    "#Created a feature \"Customer_For\"\n",
    "days = []\n",
    "d1 = max(dates) #taking it to be the newest customer\n",
    "for i in dates:\n",
    "    delta = d1 - i\n",
    "    days.append(delta)\n",
    "df[\"Customer_For\"] = days\n",
    "df[\"Customer_For\"] = pd.to_numeric(df[\"Customer_For\"], errors=\"coerce\")"
   ]
  },
  {
   "cell_type": "code",
   "execution_count": 23,
   "metadata": {
    "colab": {
     "base_uri": "https://localhost:8080/"
    },
    "id": "3hN88Y4Ajpce",
    "outputId": "0b40811c-dec5-4995-a3cf-7840bf866eab"
   },
   "outputs": [
    {
     "data": {
      "text/plain": [
       "Married     857\n",
       "Together    573\n",
       "Single      471\n",
       "Divorced    232\n",
       "Widow        76\n",
       "Alone         3\n",
       "Absurd        2\n",
       "YOLO          2\n",
       "Name: Marital_Status, dtype: int64"
      ]
     },
     "execution_count": 23,
     "metadata": {},
     "output_type": "execute_result"
    }
   ],
   "source": [
    "# Checking number of unique categories present in the \"Marital_Status\"\n",
    "\n",
    "df['Marital_Status'].value_counts()  "
   ]
  },
  {
   "cell_type": "code",
   "execution_count": 24,
   "metadata": {
    "id": "69t5a3Zwozjs"
   },
   "outputs": [],
   "source": [
    "#Deriving living situation by marital status\"Alone\"\n",
    "df[\"Living_With\"]=df[\"Marital_Status\"].replace({\"Married\":\"Partner\", \"Together\":\"Partner\", \"Absurd\":\"Alone\", \"Widow\":\"Alone\", \"YOLO\":\"Alone\", \"Divorced\":\"Alone\", \"Single\":\"Alone\",})"
   ]
  },
  {
   "cell_type": "markdown",
   "metadata": {
    "id": "k7rNgVGBlQEq"
   },
   "source": [
    "\"Year_Birth\" column is not directly related with our target variable. We can derive a new variable \"Age\" from it"
   ]
  },
  {
   "cell_type": "code",
   "execution_count": 25,
   "metadata": {
    "id": "OTSNqexUlPLu"
   },
   "outputs": [],
   "source": [
    "# Adding a column \"Age\" in the dataframe\n",
    "\n",
    "df['Age'] = 2022 - df[\"Year_Birth\"]"
   ]
  },
  {
   "cell_type": "markdown",
   "metadata": {
    "id": "xKT1U2iMl577"
   },
   "source": [
    "Segmenting education levels in three groups for simplicity"
   ]
  },
  {
   "cell_type": "code",
   "execution_count": 26,
   "metadata": {
    "id": "VzpkONbMllEA"
   },
   "outputs": [],
   "source": [
    "df[\"Education\"]=df[\"Education\"].replace(\n",
    "    {\"Basic\":\"Undergraduate\",\n",
    "     \"2n Cycle\":\"Undergraduate\", \n",
    "     \"Graduation\":\"Graduate\", \n",
    "     \"Master\":\"Postgraduate\", \n",
    "     \"PhD\":\"Postgraduate\"})"
   ]
  },
  {
   "cell_type": "code",
   "execution_count": 27,
   "metadata": {
    "colab": {
     "base_uri": "https://localhost:8080/"
    },
    "id": "SUWoyq65mOK1",
    "outputId": "448a2062-74aa-4bc6-e3f0-70d5476f4fb8"
   },
   "outputs": [
    {
     "data": {
      "text/plain": [
       "Graduate         1116\n",
       "Postgraduate      846\n",
       "Undergraduate     254\n",
       "Name: Education, dtype: int64"
      ]
     },
     "execution_count": 27,
     "metadata": {},
     "output_type": "execute_result"
    }
   ],
   "source": [
    "df['Education'].value_counts()"
   ]
  },
  {
   "cell_type": "markdown",
   "metadata": {
    "id": "arQFEb7GmXKU"
   },
   "source": [
    "Adding a new feature \"Spent\" to get the total expenditure of each customer "
   ]
  },
  {
   "cell_type": "code",
   "execution_count": 28,
   "metadata": {
    "id": "POIvVlAvmSJr"
   },
   "outputs": [],
   "source": [
    "#Total spendings on various items\n",
    "df[\"Spent\"] = df[\"MntWines\"]+ df[\"MntFruits\"]+ df[\"MntMeatProducts\"]+ df[\"MntFishProducts\"]+ df[\"MntSweetProducts\"]+ df[\"MntGoldProds\"]"
   ]
  },
  {
   "cell_type": "markdown",
   "metadata": {
    "id": "LvSjXbg7m0BK"
   },
   "source": [
    "Adding a new feature \"Children\" to count the total children of a customer"
   ]
  },
  {
   "cell_type": "code",
   "execution_count": 29,
   "metadata": {
    "id": "8NUiNuMwm5iN"
   },
   "outputs": [],
   "source": [
    "#Feature indicating total children living in the household\n",
    "df[\"Children\"]=df[\"Kidhome\"]+df[\"Teenhome\"]"
   ]
  },
  {
   "cell_type": "markdown",
   "metadata": {
    "id": "O-o5FF2LnDto"
   },
   "source": [
    "Adding a new feature \"Family_Size\" to count the total members in customer's family"
   ]
  },
  {
   "cell_type": "code",
   "execution_count": 30,
   "metadata": {
    "id": "v1RHhrd6pAuG"
   },
   "outputs": [],
   "source": [
    "#Feature for total members in the household\n",
    "df[\"Family_Size\"] = df[\"Living_With\"].replace({\"Alone\": 1, \"Partner\":2})+ df[\"Children\"]"
   ]
  },
  {
   "cell_type": "markdown",
   "metadata": {
    "id": "IEM-ZAdHqtBk"
   },
   "source": [
    "Feature pertaining parenthood"
   ]
  },
  {
   "cell_type": "code",
   "execution_count": 31,
   "metadata": {
    "id": "Ps0C86EvpFCW"
   },
   "outputs": [],
   "source": [
    "\n",
    "df[\"Is_Parent\"] = np.where(df.Children> 0, 1, 0)"
   ]
  },
  {
   "cell_type": "markdown",
   "metadata": {
    "id": "pzbn_gCQqw28"
   },
   "source": [
    "For clarity replacing \"amount of foods\" with simply their names"
   ]
  },
  {
   "cell_type": "code",
   "execution_count": 32,
   "metadata": {
    "id": "sOwZTeZCpVKa"
   },
   "outputs": [],
   "source": [
    "\n",
    "df=df.rename(columns={\"MntWines\": \"Wines\",\"MntFruits\":\"Fruits\",\"MntMeatProducts\":\"Meat\",\"MntFishProducts\":\"Fish\",\"MntSweetProducts\":\"Sweets\",\"MntGoldProds\":\"Gold\"})"
   ]
  },
  {
   "cell_type": "markdown",
   "metadata": {
    "id": "7FrrneXdpbCW"
   },
   "source": [
    "As we have already extracted key information from \"Marital Status\",  \"Dt_Customer\" and \"Year_Birth\"  using \"Living_With\" , \"Customer_For\" and \"Age\" . We are dropping those columns"
   ]
  },
  {
   "cell_type": "code",
   "execution_count": 33,
   "metadata": {
    "colab": {
     "base_uri": "https://localhost:8080/"
    },
    "id": "ZTsrp6fYpx0s",
    "outputId": "39f26186-469d-4fe1-bc9a-a407c31ee36b"
   },
   "outputs": [
    {
     "data": {
      "text/plain": [
       "(2216, 31)"
      ]
     },
     "execution_count": 33,
     "metadata": {},
     "output_type": "execute_result"
    }
   ],
   "source": [
    "\n",
    "to_drop = [\"Marital_Status\", \"Dt_Customer\", \"Year_Birth\"]\n",
    "df = df.drop(to_drop, axis=1)\n",
    "df.shape"
   ]
  },
  {
   "cell_type": "code",
   "execution_count": 34,
   "metadata": {
    "colab": {
     "base_uri": "https://localhost:8080/"
    },
    "id": "uE0WN2oPquwG",
    "outputId": "53d0d2d8-2ab7-4a03-b403-7fda03461819"
   },
   "outputs": [
    {
     "name": "stdout",
     "output_type": "stream",
     "text": [
      "<class 'pandas.core.frame.DataFrame'>\n",
      "Int64Index: 2216 entries, 0 to 2239\n",
      "Data columns (total 31 columns):\n",
      " #   Column               Non-Null Count  Dtype  \n",
      "---  ------               --------------  -----  \n",
      " 0   ID                   2216 non-null   int64  \n",
      " 1   Education            2216 non-null   object \n",
      " 2   Income               2216 non-null   float64\n",
      " 3   Kidhome              2216 non-null   int64  \n",
      " 4   Teenhome             2216 non-null   int64  \n",
      " 5   Recency              2216 non-null   int64  \n",
      " 6   Wines                2216 non-null   int64  \n",
      " 7   Fruits               2216 non-null   int64  \n",
      " 8   Meat                 2216 non-null   int64  \n",
      " 9   Fish                 2216 non-null   int64  \n",
      " 10  Sweets               2216 non-null   int64  \n",
      " 11  Gold                 2216 non-null   int64  \n",
      " 12  NumDealsPurchases    2216 non-null   int64  \n",
      " 13  NumWebPurchases      2216 non-null   int64  \n",
      " 14  NumCatalogPurchases  2216 non-null   int64  \n",
      " 15  NumStorePurchases    2216 non-null   int64  \n",
      " 16  NumWebVisitsMonth    2216 non-null   int64  \n",
      " 17  AcceptedCmp3         2216 non-null   int64  \n",
      " 18  AcceptedCmp4         2216 non-null   int64  \n",
      " 19  AcceptedCmp5         2216 non-null   int64  \n",
      " 20  AcceptedCmp1         2216 non-null   int64  \n",
      " 21  AcceptedCmp2         2216 non-null   int64  \n",
      " 22  Complain             2216 non-null   int64  \n",
      " 23  Response             2216 non-null   int64  \n",
      " 24  Customer_For         2216 non-null   int64  \n",
      " 25  Living_With          2216 non-null   object \n",
      " 26  Age                  2216 non-null   int64  \n",
      " 27  Spent                2216 non-null   int64  \n",
      " 28  Children             2216 non-null   int64  \n",
      " 29  Family_Size          2216 non-null   int64  \n",
      " 30  Is_Parent            2216 non-null   int32  \n",
      "dtypes: float64(1), int32(1), int64(27), object(2)\n",
      "memory usage: 545.3+ KB\n"
     ]
    }
   ],
   "source": [
    "df.info()"
   ]
  },
  {
   "cell_type": "code",
   "execution_count": 35,
   "metadata": {
    "colab": {
     "base_uri": "https://localhost:8080/",
     "height": 394
    },
    "id": "F38wVBarrVZ6",
    "outputId": "b1a82a91-3976-4f90-9910-991812d14209"
   },
   "outputs": [
    {
     "data": {
      "text/html": [
       "<div>\n",
       "<style scoped>\n",
       "    .dataframe tbody tr th:only-of-type {\n",
       "        vertical-align: middle;\n",
       "    }\n",
       "\n",
       "    .dataframe tbody tr th {\n",
       "        vertical-align: top;\n",
       "    }\n",
       "\n",
       "    .dataframe thead th {\n",
       "        text-align: right;\n",
       "    }\n",
       "</style>\n",
       "<table border=\"1\" class=\"dataframe\">\n",
       "  <thead>\n",
       "    <tr style=\"text-align: right;\">\n",
       "      <th></th>\n",
       "      <th>ID</th>\n",
       "      <th>Income</th>\n",
       "      <th>Kidhome</th>\n",
       "      <th>Teenhome</th>\n",
       "      <th>Recency</th>\n",
       "      <th>Wines</th>\n",
       "      <th>Fruits</th>\n",
       "      <th>Meat</th>\n",
       "      <th>Fish</th>\n",
       "      <th>Sweets</th>\n",
       "      <th>...</th>\n",
       "      <th>AcceptedCmp1</th>\n",
       "      <th>AcceptedCmp2</th>\n",
       "      <th>Complain</th>\n",
       "      <th>Response</th>\n",
       "      <th>Customer_For</th>\n",
       "      <th>Age</th>\n",
       "      <th>Spent</th>\n",
       "      <th>Children</th>\n",
       "      <th>Family_Size</th>\n",
       "      <th>Is_Parent</th>\n",
       "    </tr>\n",
       "  </thead>\n",
       "  <tbody>\n",
       "    <tr>\n",
       "      <th>count</th>\n",
       "      <td>2216.000000</td>\n",
       "      <td>2216.000000</td>\n",
       "      <td>2216.000000</td>\n",
       "      <td>2216.000000</td>\n",
       "      <td>2216.000000</td>\n",
       "      <td>2216.000000</td>\n",
       "      <td>2216.000000</td>\n",
       "      <td>2216.000000</td>\n",
       "      <td>2216.000000</td>\n",
       "      <td>2216.000000</td>\n",
       "      <td>...</td>\n",
       "      <td>2216.000000</td>\n",
       "      <td>2216.000000</td>\n",
       "      <td>2216.000000</td>\n",
       "      <td>2216.000000</td>\n",
       "      <td>2.216000e+03</td>\n",
       "      <td>2216.000000</td>\n",
       "      <td>2216.000000</td>\n",
       "      <td>2216.000000</td>\n",
       "      <td>2216.000000</td>\n",
       "      <td>2216.000000</td>\n",
       "    </tr>\n",
       "    <tr>\n",
       "      <th>mean</th>\n",
       "      <td>5588.353339</td>\n",
       "      <td>52247.251354</td>\n",
       "      <td>0.441787</td>\n",
       "      <td>0.505415</td>\n",
       "      <td>49.012635</td>\n",
       "      <td>305.091606</td>\n",
       "      <td>26.356047</td>\n",
       "      <td>166.995939</td>\n",
       "      <td>37.637635</td>\n",
       "      <td>27.028881</td>\n",
       "      <td>...</td>\n",
       "      <td>0.064079</td>\n",
       "      <td>0.013538</td>\n",
       "      <td>0.009477</td>\n",
       "      <td>0.150271</td>\n",
       "      <td>4.423735e+16</td>\n",
       "      <td>53.179603</td>\n",
       "      <td>607.075361</td>\n",
       "      <td>0.947202</td>\n",
       "      <td>2.592509</td>\n",
       "      <td>0.714350</td>\n",
       "    </tr>\n",
       "    <tr>\n",
       "      <th>std</th>\n",
       "      <td>3249.376275</td>\n",
       "      <td>25173.076661</td>\n",
       "      <td>0.536896</td>\n",
       "      <td>0.544181</td>\n",
       "      <td>28.948352</td>\n",
       "      <td>337.327920</td>\n",
       "      <td>39.793917</td>\n",
       "      <td>224.283273</td>\n",
       "      <td>54.752082</td>\n",
       "      <td>41.072046</td>\n",
       "      <td>...</td>\n",
       "      <td>0.244950</td>\n",
       "      <td>0.115588</td>\n",
       "      <td>0.096907</td>\n",
       "      <td>0.357417</td>\n",
       "      <td>2.008532e+16</td>\n",
       "      <td>11.985554</td>\n",
       "      <td>602.900476</td>\n",
       "      <td>0.749062</td>\n",
       "      <td>0.905722</td>\n",
       "      <td>0.451825</td>\n",
       "    </tr>\n",
       "    <tr>\n",
       "      <th>min</th>\n",
       "      <td>0.000000</td>\n",
       "      <td>1730.000000</td>\n",
       "      <td>0.000000</td>\n",
       "      <td>0.000000</td>\n",
       "      <td>0.000000</td>\n",
       "      <td>0.000000</td>\n",
       "      <td>0.000000</td>\n",
       "      <td>0.000000</td>\n",
       "      <td>0.000000</td>\n",
       "      <td>0.000000</td>\n",
       "      <td>...</td>\n",
       "      <td>0.000000</td>\n",
       "      <td>0.000000</td>\n",
       "      <td>0.000000</td>\n",
       "      <td>0.000000</td>\n",
       "      <td>0.000000e+00</td>\n",
       "      <td>26.000000</td>\n",
       "      <td>5.000000</td>\n",
       "      <td>0.000000</td>\n",
       "      <td>1.000000</td>\n",
       "      <td>0.000000</td>\n",
       "    </tr>\n",
       "    <tr>\n",
       "      <th>25%</th>\n",
       "      <td>2814.750000</td>\n",
       "      <td>35303.000000</td>\n",
       "      <td>0.000000</td>\n",
       "      <td>0.000000</td>\n",
       "      <td>24.000000</td>\n",
       "      <td>24.000000</td>\n",
       "      <td>2.000000</td>\n",
       "      <td>16.000000</td>\n",
       "      <td>3.000000</td>\n",
       "      <td>1.000000</td>\n",
       "      <td>...</td>\n",
       "      <td>0.000000</td>\n",
       "      <td>0.000000</td>\n",
       "      <td>0.000000</td>\n",
       "      <td>0.000000</td>\n",
       "      <td>2.937600e+16</td>\n",
       "      <td>45.000000</td>\n",
       "      <td>69.000000</td>\n",
       "      <td>0.000000</td>\n",
       "      <td>2.000000</td>\n",
       "      <td>0.000000</td>\n",
       "    </tr>\n",
       "    <tr>\n",
       "      <th>50%</th>\n",
       "      <td>5458.500000</td>\n",
       "      <td>51381.500000</td>\n",
       "      <td>0.000000</td>\n",
       "      <td>0.000000</td>\n",
       "      <td>49.000000</td>\n",
       "      <td>174.500000</td>\n",
       "      <td>8.000000</td>\n",
       "      <td>68.000000</td>\n",
       "      <td>12.000000</td>\n",
       "      <td>8.000000</td>\n",
       "      <td>...</td>\n",
       "      <td>0.000000</td>\n",
       "      <td>0.000000</td>\n",
       "      <td>0.000000</td>\n",
       "      <td>0.000000</td>\n",
       "      <td>4.432320e+16</td>\n",
       "      <td>52.000000</td>\n",
       "      <td>396.500000</td>\n",
       "      <td>1.000000</td>\n",
       "      <td>3.000000</td>\n",
       "      <td>1.000000</td>\n",
       "    </tr>\n",
       "    <tr>\n",
       "      <th>75%</th>\n",
       "      <td>8421.750000</td>\n",
       "      <td>68522.000000</td>\n",
       "      <td>1.000000</td>\n",
       "      <td>1.000000</td>\n",
       "      <td>74.000000</td>\n",
       "      <td>505.000000</td>\n",
       "      <td>33.000000</td>\n",
       "      <td>232.250000</td>\n",
       "      <td>50.000000</td>\n",
       "      <td>33.000000</td>\n",
       "      <td>...</td>\n",
       "      <td>0.000000</td>\n",
       "      <td>0.000000</td>\n",
       "      <td>0.000000</td>\n",
       "      <td>0.000000</td>\n",
       "      <td>5.927040e+16</td>\n",
       "      <td>63.000000</td>\n",
       "      <td>1048.000000</td>\n",
       "      <td>1.000000</td>\n",
       "      <td>3.000000</td>\n",
       "      <td>1.000000</td>\n",
       "    </tr>\n",
       "    <tr>\n",
       "      <th>max</th>\n",
       "      <td>11191.000000</td>\n",
       "      <td>666666.000000</td>\n",
       "      <td>2.000000</td>\n",
       "      <td>2.000000</td>\n",
       "      <td>99.000000</td>\n",
       "      <td>1493.000000</td>\n",
       "      <td>199.000000</td>\n",
       "      <td>1725.000000</td>\n",
       "      <td>259.000000</td>\n",
       "      <td>262.000000</td>\n",
       "      <td>...</td>\n",
       "      <td>1.000000</td>\n",
       "      <td>1.000000</td>\n",
       "      <td>1.000000</td>\n",
       "      <td>1.000000</td>\n",
       "      <td>9.184320e+16</td>\n",
       "      <td>129.000000</td>\n",
       "      <td>2525.000000</td>\n",
       "      <td>3.000000</td>\n",
       "      <td>5.000000</td>\n",
       "      <td>1.000000</td>\n",
       "    </tr>\n",
       "  </tbody>\n",
       "</table>\n",
       "<p>8 rows × 29 columns</p>\n",
       "</div>"
      ],
      "text/plain": [
       "                 ID         Income      Kidhome     Teenhome      Recency  \\\n",
       "count   2216.000000    2216.000000  2216.000000  2216.000000  2216.000000   \n",
       "mean    5588.353339   52247.251354     0.441787     0.505415    49.012635   \n",
       "std     3249.376275   25173.076661     0.536896     0.544181    28.948352   \n",
       "min        0.000000    1730.000000     0.000000     0.000000     0.000000   \n",
       "25%     2814.750000   35303.000000     0.000000     0.000000    24.000000   \n",
       "50%     5458.500000   51381.500000     0.000000     0.000000    49.000000   \n",
       "75%     8421.750000   68522.000000     1.000000     1.000000    74.000000   \n",
       "max    11191.000000  666666.000000     2.000000     2.000000    99.000000   \n",
       "\n",
       "             Wines       Fruits         Meat         Fish       Sweets  ...  \\\n",
       "count  2216.000000  2216.000000  2216.000000  2216.000000  2216.000000  ...   \n",
       "mean    305.091606    26.356047   166.995939    37.637635    27.028881  ...   \n",
       "std     337.327920    39.793917   224.283273    54.752082    41.072046  ...   \n",
       "min       0.000000     0.000000     0.000000     0.000000     0.000000  ...   \n",
       "25%      24.000000     2.000000    16.000000     3.000000     1.000000  ...   \n",
       "50%     174.500000     8.000000    68.000000    12.000000     8.000000  ...   \n",
       "75%     505.000000    33.000000   232.250000    50.000000    33.000000  ...   \n",
       "max    1493.000000   199.000000  1725.000000   259.000000   262.000000  ...   \n",
       "\n",
       "       AcceptedCmp1  AcceptedCmp2     Complain     Response  Customer_For  \\\n",
       "count   2216.000000   2216.000000  2216.000000  2216.000000  2.216000e+03   \n",
       "mean       0.064079      0.013538     0.009477     0.150271  4.423735e+16   \n",
       "std        0.244950      0.115588     0.096907     0.357417  2.008532e+16   \n",
       "min        0.000000      0.000000     0.000000     0.000000  0.000000e+00   \n",
       "25%        0.000000      0.000000     0.000000     0.000000  2.937600e+16   \n",
       "50%        0.000000      0.000000     0.000000     0.000000  4.432320e+16   \n",
       "75%        0.000000      0.000000     0.000000     0.000000  5.927040e+16   \n",
       "max        1.000000      1.000000     1.000000     1.000000  9.184320e+16   \n",
       "\n",
       "               Age        Spent     Children  Family_Size    Is_Parent  \n",
       "count  2216.000000  2216.000000  2216.000000  2216.000000  2216.000000  \n",
       "mean     53.179603   607.075361     0.947202     2.592509     0.714350  \n",
       "std      11.985554   602.900476     0.749062     0.905722     0.451825  \n",
       "min      26.000000     5.000000     0.000000     1.000000     0.000000  \n",
       "25%      45.000000    69.000000     0.000000     2.000000     0.000000  \n",
       "50%      52.000000   396.500000     1.000000     3.000000     1.000000  \n",
       "75%      63.000000  1048.000000     1.000000     3.000000     1.000000  \n",
       "max     129.000000  2525.000000     3.000000     5.000000     1.000000  \n",
       "\n",
       "[8 rows x 29 columns]"
      ]
     },
     "execution_count": 35,
     "metadata": {},
     "output_type": "execute_result"
    }
   ],
   "source": [
    "df.describe()"
   ]
  },
  {
   "cell_type": "code",
   "execution_count": 36,
   "metadata": {
    "colab": {
     "base_uri": "https://localhost:8080/",
     "height": 279
    },
    "id": "0wbWSqDdrrv8",
    "outputId": "60ba360d-0585-49d4-8cc8-7fa2ffa5b83f"
   },
   "outputs": [
    {
     "data": {
      "image/png": "[encoded data removed]",
      "text/plain": [
       "<Figure size 432x288 with 1 Axes>"
      ]
     },
     "metadata": {
      "needs_background": "light"
     },
     "output_type": "display_data"
    }
   ],
   "source": [
    "ax = sns.boxplot(x=df[\"Age\"])"
   ]
  },
  {
   "cell_type": "code",
   "execution_count": 37,
   "metadata": {
    "colab": {
     "base_uri": "https://localhost:8080/",
     "height": 279
    },
    "id": "cV-jEDsYr0kr",
    "outputId": "e512650a-0b15-41ae-c07a-362f95c13bb0"
   },
   "outputs": [
    {
     "data": {
      "image/png": "[encoded data removed]",
      "text/plain": [
       "<Figure size 432x288 with 1 Axes>"
      ]
     },
     "metadata": {
      "needs_background": "light"
     },
     "output_type": "display_data"
    }
   ],
   "source": [
    "ax = sns.boxplot(x=df[\"Income\"])"
   ]
  },
  {
   "cell_type": "markdown",
   "metadata": {
    "id": "O7cQFxYmsDso"
   },
   "source": [
    "So there are few outliers in Age & Income columns. We are dropping them."
   ]
  },
  {
   "cell_type": "code",
   "execution_count": 39,
   "metadata": {
    "colab": {
     "base_uri": "https://localhost:8080/"
    },
    "id": "ryDdiUy7sHJE",
    "outputId": "8e99c0ef-f46d-4cab-f73c-01178dbfa023"
   },
   "outputs": [
    {
     "data": {
      "text/plain": [
       "(2212, 31)"
      ]
     },
     "execution_count": 39,
     "metadata": {},
     "output_type": "execute_result"
    }
   ],
   "source": [
    "#Dropping the outliers by setting a cap on Age and income. \n",
    "df = df[(df[\"Age\"]<90)]\n",
    "df = df[(df[\"Income\"]<600000)]\n",
    "df.shape"
   ]
  },
  {
   "cell_type": "code",
   "execution_count": 40,
   "metadata": {
    "colab": {
     "base_uri": "https://localhost:8080/"
    },
    "id": "PDn2jCv_sXoX",
    "outputId": "8bd286c0-8894-4ce0-81cf-81d2669ed9a1"
   },
   "outputs": [
    {
     "name": "stdout",
     "output_type": "stream",
     "text": [
      "Categorical variables in the dataset: ['Education', 'Living_With']\n"
     ]
    }
   ],
   "source": [
    "#Get list of categorical variables\n",
    "s = (df.dtypes == 'object')\n",
    "object_cols = list(s[s].index)\n",
    "\n",
    "print(\"Categorical variables in the dataset:\", object_cols)"
   ]
  },
  {
   "cell_type": "code",
   "execution_count": 41,
   "metadata": {
    "colab": {
     "base_uri": "https://localhost:8080/"
    },
    "id": "FFvkM9sSsmS_",
    "outputId": "f88425b9-9704-4e26-cdcd-ad4c9825e6aa"
   },
   "outputs": [
    {
     "name": "stdout",
     "output_type": "stream",
     "text": [
      "All features are now numerical\n"
     ]
    }
   ],
   "source": [
    "#Label Encoding the object dtypes.\n",
    "LE=LabelEncoder()\n",
    "for i in object_cols:\n",
    "    df[i]=df[[i]].apply(LE.fit_transform)\n",
    "    \n",
    "print(\"All features are now numerical\")"
   ]
  },
  {
   "cell_type": "code",
   "execution_count": 42,
   "metadata": {
    "colab": {
     "base_uri": "https://localhost:8080/"
    },
    "id": "WeKkv4f4s2UQ",
    "outputId": "3ae5b613-3737-42d8-c1ad-b287efc6af21"
   },
   "outputs": [
    {
     "data": {
      "text/plain": [
       "0    2070\n",
       "1     142\n",
       "Name: AcceptedCmp1, dtype: int64"
      ]
     },
     "execution_count": 42,
     "metadata": {},
     "output_type": "execute_result"
    }
   ],
   "source": [
    "df['AcceptedCmp1'].value_counts()"
   ]
  },
  {
   "cell_type": "code",
   "execution_count": 43,
   "metadata": {
    "colab": {
     "base_uri": "https://localhost:8080/"
    },
    "id": "9sKTTH6ItVCY",
    "outputId": "eabed77c-845b-4380-cd2d-1e1f6637e059"
   },
   "outputs": [
    {
     "data": {
      "text/plain": [
       "0    2182\n",
       "1      30\n",
       "Name: AcceptedCmp2, dtype: int64"
      ]
     },
     "execution_count": 43,
     "metadata": {},
     "output_type": "execute_result"
    }
   ],
   "source": [
    "df['AcceptedCmp2'].value_counts()"
   ]
  },
  {
   "cell_type": "code",
   "execution_count": 41,
   "metadata": {
    "colab": {
     "base_uri": "https://localhost:8080/"
    },
    "id": "XUgNSL1xtbH5",
    "outputId": "42411682-cf96-4871-cdf3-8186574236b1"
   },
   "outputs": [
    {
     "data": {
      "text/plain": [
       "0    2049\n",
       "1     163\n",
       "Name: AcceptedCmp3, dtype: int64"
      ]
     },
     "execution_count": 41,
     "metadata": {},
     "output_type": "execute_result"
    }
   ],
   "source": [
    "df['AcceptedCmp3'].value_counts()"
   ]
  },
  {
   "cell_type": "code",
   "execution_count": 44,
   "metadata": {
    "colab": {
     "base_uri": "https://localhost:8080/"
    },
    "id": "2dPLWwVItb1A",
    "outputId": "09ee762b-2617-433c-a7a6-f5a100ed50cd"
   },
   "outputs": [
    {
     "data": {
      "text/plain": [
       "0    2048\n",
       "1     164\n",
       "Name: AcceptedCmp4, dtype: int64"
      ]
     },
     "execution_count": 44,
     "metadata": {},
     "output_type": "execute_result"
    }
   ],
   "source": [
    "df['AcceptedCmp4'].value_counts()"
   ]
  },
  {
   "cell_type": "code",
   "execution_count": 45,
   "metadata": {
    "colab": {
     "base_uri": "https://localhost:8080/"
    },
    "id": "zoyruZ9GtdJp",
    "outputId": "d5818188-3e32-44cb-f761-ff195188639f"
   },
   "outputs": [
    {
     "data": {
      "text/plain": [
       "0    2051\n",
       "1     161\n",
       "Name: AcceptedCmp5, dtype: int64"
      ]
     },
     "execution_count": 45,
     "metadata": {},
     "output_type": "execute_result"
    }
   ],
   "source": [
    "df['AcceptedCmp5'].value_counts()"
   ]
  },
  {
   "cell_type": "code",
   "execution_count": 46,
   "metadata": {
    "colab": {
     "base_uri": "https://localhost:8080/"
    },
    "id": "NISJLvNJtfew",
    "outputId": "8057b035-1042-4976-c105-c5456049be38"
   },
   "outputs": [
    {
     "data": {
      "text/plain": [
       "0    2192\n",
       "1      20\n",
       "Name: Complain, dtype: int64"
      ]
     },
     "execution_count": 46,
     "metadata": {},
     "output_type": "execute_result"
    }
   ],
   "source": [
    "df['Complain'].value_counts()"
   ]
  },
  {
   "cell_type": "code",
   "execution_count": 47,
   "metadata": {
    "colab": {
     "base_uri": "https://localhost:8080/"
    },
    "id": "c5UCpD0OthZn",
    "outputId": "f534a6d0-d7c1-4523-d973-9b146bc35610"
   },
   "outputs": [
    {
     "data": {
      "text/plain": [
       "0    1879\n",
       "1     333\n",
       "Name: Response, dtype: int64"
      ]
     },
     "execution_count": 47,
     "metadata": {},
     "output_type": "execute_result"
    }
   ],
   "source": [
    "df['Response'].value_counts()"
   ]
  },
  {
   "cell_type": "markdown",
   "metadata": {
    "id": "odR3NG7Gtmrf"
   },
   "source": [
    "Here, we can see, AcceptedCmp1, AcceptedCmp2, AcceptedCmp3, AcceptedCmp4, AcceptedCmp5,  Complain and Response are binary valued columns. "
   ]
  },
  {
   "cell_type": "code",
   "execution_count": 48,
   "metadata": {
    "id": "stzVZSCxvH4P"
   },
   "outputs": [],
   "source": [
    "df['TotalAcceptedCmp'] = df['AcceptedCmp1'] + df['AcceptedCmp2'] + df['AcceptedCmp3'] + df['AcceptedCmp4'] + df['AcceptedCmp5']"
   ]
  },
  {
   "cell_type": "code",
   "execution_count": 49,
   "metadata": {
    "colab": {
     "base_uri": "https://localhost:8080/"
    },
    "id": "WfqNNy9CvM92",
    "outputId": "d1400037-245e-4b95-900b-02b2210e68c1"
   },
   "outputs": [
    {
     "data": {
      "text/plain": [
       "0    1754\n",
       "1     322\n",
       "2      81\n",
       "3      44\n",
       "4      11\n",
       "Name: TotalAcceptedCmp, dtype: int64"
      ]
     },
     "execution_count": 49,
     "metadata": {},
     "output_type": "execute_result"
    }
   ],
   "source": [
    "df['TotalAcceptedCmp'].value_counts()"
   ]
  },
  {
   "cell_type": "code",
   "execution_count": 50,
   "metadata": {
    "colab": {
     "base_uri": "https://localhost:8080/"
    },
    "id": "TrmB47eGv5RI",
    "outputId": "874848ab-1a6d-4e9c-dc67-eebf7f66ada6"
   },
   "outputs": [
    {
     "data": {
      "text/plain": [
       "5524     1\n",
       "2072     1\n",
       "7494     1\n",
       "1763     1\n",
       "7250     1\n",
       "        ..\n",
       "10548    1\n",
       "7235     1\n",
       "3560     1\n",
       "5278     1\n",
       "9405     1\n",
       "Name: ID, Length: 2212, dtype: int64"
      ]
     },
     "execution_count": 50,
     "metadata": {},
     "output_type": "execute_result"
    }
   ],
   "source": [
    "df['ID'].value_counts()"
   ]
  },
  {
   "cell_type": "code",
   "execution_count": 51,
   "metadata": {
    "id": "LL8mReuOvhfO"
   },
   "outputs": [],
   "source": [
    "to_drop = [\"AcceptedCmp1\", \"AcceptedCmp2\", \"AcceptedCmp3\", \"AcceptedCmp4\", \"AcceptedCmp5\", \"ID\"]\n",
    "df= df.drop(to_drop, axis=1)"
   ]
  },
  {
   "cell_type": "code",
   "execution_count": 52,
   "metadata": {
    "colab": {
     "base_uri": "https://localhost:8080/"
    },
    "id": "CdeIR0jUt_KQ",
    "outputId": "3210bb94-faa2-49e0-9d9a-4222bf7b12bc"
   },
   "outputs": [
    {
     "name": "stdout",
     "output_type": "stream",
     "text": [
      "<class 'pandas.core.frame.DataFrame'>\n",
      "Int64Index: 2212 entries, 0 to 2239\n",
      "Data columns (total 26 columns):\n",
      " #   Column               Non-Null Count  Dtype  \n",
      "---  ------               --------------  -----  \n",
      " 0   Education            2212 non-null   int32  \n",
      " 1   Income               2212 non-null   float64\n",
      " 2   Kidhome              2212 non-null   int64  \n",
      " 3   Teenhome             2212 non-null   int64  \n",
      " 4   Recency              2212 non-null   int64  \n",
      " 5   Wines                2212 non-null   int64  \n",
      " 6   Fruits               2212 non-null   int64  \n",
      " 7   Meat                 2212 non-null   int64  \n",
      " 8   Fish                 2212 non-null   int64  \n",
      " 9   Sweets               2212 non-null   int64  \n",
      " 10  Gold                 2212 non-null   int64  \n",
      " 11  NumDealsPurchases    2212 non-null   int64  \n",
      " 12  NumWebPurchases      2212 non-null   int64  \n",
      " 13  NumCatalogPurchases  2212 non-null   int64  \n",
      " 14  NumStorePurchases    2212 non-null   int64  \n",
      " 15  NumWebVisitsMonth    2212 non-null   int64  \n",
      " 16  Complain             2212 non-null   int64  \n",
      " 17  Response             2212 non-null   int64  \n",
      " 18  Customer_For         2212 non-null   int64  \n",
      " 19  Living_With          2212 non-null   int32  \n",
      " 20  Age                  2212 non-null   int64  \n",
      " 21  Spent                2212 non-null   int64  \n",
      " 22  Children             2212 non-null   int64  \n",
      " 23  Family_Size          2212 non-null   int64  \n",
      " 24  Is_Parent            2212 non-null   int32  \n",
      " 25  TotalAcceptedCmp     2212 non-null   int64  \n",
      "dtypes: float64(1), int32(3), int64(22)\n",
      "memory usage: 440.7 KB\n"
     ]
    }
   ],
   "source": [
    "df.info()"
   ]
  },
  {
   "cell_type": "code",
   "execution_count": 53,
   "metadata": {
    "colab": {
     "base_uri": "https://localhost:8080/"
    },
    "id": "sz-xwXv2w5jl",
    "outputId": "80327f2e-a8c1-42ed-b16d-c7da11344afc"
   },
   "outputs": [
    {
     "data": {
      "text/plain": [
       "1    1580\n",
       "0     632\n",
       "Name: Is_Parent, dtype: int64"
      ]
     },
     "execution_count": 53,
     "metadata": {},
     "output_type": "execute_result"
    }
   ],
   "source": [
    "df[\"Is_Parent\"].value_counts()"
   ]
  },
  {
   "cell_type": "code",
   "execution_count": 54,
   "metadata": {
    "colab": {
     "base_uri": "https://localhost:8080/"
    },
    "id": "gxVlmS-e0aR_",
    "outputId": "0646c7c8-e36f-4003-d464-6ba95a8d496a"
   },
   "outputs": [
    {
     "data": {
      "text/plain": [
       "1    1428\n",
       "0     784\n",
       "Name: Living_With, dtype: int64"
      ]
     },
     "execution_count": 54,
     "metadata": {},
     "output_type": "execute_result"
    }
   ],
   "source": [
    "df['Living_With'].value_counts()"
   ]
  },
  {
   "cell_type": "code",
   "execution_count": 55,
   "metadata": {
    "colab": {
     "base_uri": "https://localhost:8080/"
    },
    "id": "EF-W1FQ60nq4",
    "outputId": "11861124-a453-409f-a09a-06c48833e484"
   },
   "outputs": [
    {
     "data": {
      "text/plain": [
       "0    2192\n",
       "1      20\n",
       "Name: Complain, dtype: int64"
      ]
     },
     "execution_count": 55,
     "metadata": {},
     "output_type": "execute_result"
    }
   ],
   "source": [
    "df['Complain'].value_counts()"
   ]
  },
  {
   "cell_type": "code",
   "execution_count": 56,
   "metadata": {
    "colab": {
     "base_uri": "https://localhost:8080/"
    },
    "id": "VXQclm5M0qun",
    "outputId": "1fa1625b-2b46-4870-c690-6114e1aca053"
   },
   "outputs": [
    {
     "data": {
      "text/plain": [
       "0    1879\n",
       "1     333\n",
       "Name: Response, dtype: int64"
      ]
     },
     "execution_count": 56,
     "metadata": {},
     "output_type": "execute_result"
    }
   ],
   "source": [
    "df['Response'].value_counts()"
   ]
  },
  {
   "cell_type": "markdown",
   "metadata": {
    "id": "l9gDmkaY0yYx"
   },
   "source": [
    "So, now we have 4 binary features, should we use them or not? Should we scale them or not? On this question, we have a Kaggle thread as [reference](https://www.kaggle.com/questions-and-answers/85079). Ultimately, we are using StandardScaler to scale them. "
   ]
  },
  {
   "cell_type": "markdown",
   "metadata": {
    "id": "JAfg3M8y27zT"
   },
   "source": [
    "### Data Scaling"
   ]
  },
  {
   "cell_type": "code",
   "execution_count": 57,
   "metadata": {
    "colab": {
     "base_uri": "https://localhost:8080/"
    },
    "id": "eCbWjeFd0tEw",
    "outputId": "aaea7e5e-158a-4d86-db8b-0292d805ad35"
   },
   "outputs": [
    {
     "name": "stdout",
     "output_type": "stream",
     "text": [
      "All features are now scaled\n"
     ]
    }
   ],
   "source": [
    "scaler = StandardScaler()\n",
    "scaler.fit(df)\n",
    "scaled_df = pd.DataFrame(scaler.transform(df),columns= df.columns )\n",
    "print(\"All features are now scaled\")"
   ]
  },
  {
   "cell_type": "code",
   "execution_count": 58,
   "metadata": {
    "colab": {
     "base_uri": "https://localhost:8080/"
    },
    "id": "l8Nptgpf1yJy",
    "outputId": "0a431a4c-3918-4da1-9c73-4fedc36f5e51"
   },
   "outputs": [
    {
     "data": {
      "text/plain": [
       "(2212, 26)"
      ]
     },
     "execution_count": 58,
     "metadata": {},
     "output_type": "execute_result"
    }
   ],
   "source": [
    "scaled_df.shape"
   ]
  },
  {
   "cell_type": "code",
   "execution_count": 59,
   "metadata": {
    "colab": {
     "base_uri": "https://localhost:8080/"
    },
    "id": "hcw0GphS1YdK",
    "outputId": "0aa68e91-72af-4062-d9bc-0e84fce1112a"
   },
   "outputs": [
    {
     "name": "stdout",
     "output_type": "stream",
     "text": [
      "<class 'pandas.core.frame.DataFrame'>\n",
      "RangeIndex: 2212 entries, 0 to 2211\n",
      "Data columns (total 26 columns):\n",
      " #   Column               Non-Null Count  Dtype  \n",
      "---  ------               --------------  -----  \n",
      " 0   Education            2212 non-null   float64\n",
      " 1   Income               2212 non-null   float64\n",
      " 2   Kidhome              2212 non-null   float64\n",
      " 3   Teenhome             2212 non-null   float64\n",
      " 4   Recency              2212 non-null   float64\n",
      " 5   Wines                2212 non-null   float64\n",
      " 6   Fruits               2212 non-null   float64\n",
      " 7   Meat                 2212 non-null   float64\n",
      " 8   Fish                 2212 non-null   float64\n",
      " 9   Sweets               2212 non-null   float64\n",
      " 10  Gold                 2212 non-null   float64\n",
      " 11  NumDealsPurchases    2212 non-null   float64\n",
      " 12  NumWebPurchases      2212 non-null   float64\n",
      " 13  NumCatalogPurchases  2212 non-null   float64\n",
      " 14  NumStorePurchases    2212 non-null   float64\n",
      " 15  NumWebVisitsMonth    2212 non-null   float64\n",
      " 16  Complain             2212 non-null   float64\n",
      " 17  Response             2212 non-null   float64\n",
      " 18  Customer_For         2212 non-null   float64\n",
      " 19  Living_With          2212 non-null   float64\n",
      " 20  Age                  2212 non-null   float64\n",
      " 21  Spent                2212 non-null   float64\n",
      " 22  Children             2212 non-null   float64\n",
      " 23  Family_Size          2212 non-null   float64\n",
      " 24  Is_Parent            2212 non-null   float64\n",
      " 25  TotalAcceptedCmp     2212 non-null   float64\n",
      "dtypes: float64(26)\n",
      "memory usage: 449.4 KB\n"
     ]
    }
   ],
   "source": [
    "scaled_df.info()"
   ]
  },
  {
   "cell_type": "code",
   "execution_count": 60,
   "metadata": {},
   "outputs": [],
   "source": [
    "scaled_df.reset_index(drop=True, inplace=True)"
   ]
  },
  {
   "cell_type": "code",
   "execution_count": null,
   "metadata": {},
   "outputs": [],
   "source": []
  }
 ],
 "metadata": {
  "colab": {
   "collapsed_sections": [],
   "name": "Customer Personality Analysis (Data Part) .ipynb",
   "provenance": []
  },
  "kernelspec": {
   "display_name": "Python 3 (ipykernel)",
   "language": "python",
   "name": "python3"
  },
  "language_info": {
   "codemirror_mode": {
    "name": "ipython",
    "version": 3
   },
   "file_extension": ".py",
   "mimetype": "text/x-python",
   "name": "python",
   "nbconvert_exporter": "python",
   "pygments_lexer": "ipython3",
   "version": "3.9.12"
  }
 },
 "nbformat": 4,
 "nbformat_minor": 4
}
